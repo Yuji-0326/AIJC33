{
 "cells": [
  {
   "cell_type": "markdown",
   "metadata": {},
   "source": [
    "X=Yのモデルでリッジ回帰の検証を行う"
   ]
  },
  {
   "cell_type": "code",
   "execution_count": 54,
   "metadata": {},
   "outputs": [
    {
     "name": "stdout",
     "output_type": "stream",
     "text": [
      "Train Score(est1,est2):(1.000,1.000)\n",
      "Test Score(est1,est2):(1.000,1.000)\n"
     ]
    },
    {
     "data": {
      "image/png": "[encoded data removed]",
      "text/plain": [
       "<Figure size 432x288 with 1 Axes>"
      ]
     },
     "metadata": {
      "needs_background": "light"
     },
     "output_type": "display_data"
    }
   ],
   "source": [
    "import numpy as np \n",
    "import matplotlib.pyplot as plt\n",
    "from sklearn.preprocessing import StandardScaler\n",
    "from sklearn.linear_model import LinearRegression, Ridge\n",
    "from sklearn.pipeline import Pipeline\n",
    "from sklearn.model_selection import train_test_split\n",
    "from sklearn.metrics import r2_score\n",
    "\n",
    "\n",
    "#単純に増えていく数値の書き方\n",
    "## Xはリスト内包表記\n",
    "## yはnpの等差数列生成関数\n",
    "X = np.arange(100)\n",
    "y = np.array([i for i in range(100)])\n",
    "\n",
    "\n",
    "#データを処理するにあたり、配列を転置することが必要\n",
    "X = X.reshape(-1,1)\n",
    "y = y.reshape(-1,1)\n",
    "\n",
    "# ホールドアウトのためデータを訓練とテストに分割\n",
    "X_train,X_test,y_train,y_test = train_test_split(X,\n",
    "                                                 y,\n",
    "                                                 test_size=0.20,\n",
    "                                                 random_state=1)\n",
    "\n",
    "plt.scatter(X,y)\n",
    "\n",
    "# 二つのモデルを構築(比較用)\n",
    "# 線形回帰\n",
    "est1 =  LinearRegression()\n",
    "est1.fit(X_train,y_train)\n",
    "# Ridgeモデル\n",
    "est2 = Ridge(alpha=.5) \n",
    "est2.fit(X_train,y_train)\n",
    "\n",
    "\n",
    "#モデルパフォーマンス指標(R2)の取得\n",
    "# for training data\n",
    "r2_est1_train = r2_score(y_train,est1.predict(X_train))\n",
    "r2_est2_train = r2_score(y_train,est2.predict(X_train))\n",
    "# for test data\n",
    "r2_est1_test = r2_score(y_test,est1.predict(X_test))\n",
    "r2_est2_test = r2_score(y_test,est2.predict(X_test))\n",
    "\n",
    "# 性能指標の表示\n",
    "print('Train Score(est1,est2):(%.3f,%.3f)'% (r2_est1_train, r2_est2_train))\n",
    "print('Test Score(est1,est2):(%.3f,%.3f)'% (r2_est1_test, r2_est2_test))"
   ]
  },
  {
   "cell_type": "markdown",
   "metadata": {},
   "source": [
    "yを二乗で増えていくようにして、非線形とした"
   ]
  },
  {
   "cell_type": "code",
   "execution_count": 55,
   "metadata": {},
   "outputs": [
    {
     "name": "stdout",
     "output_type": "stream",
     "text": [
      "[   0    1    4    9   16   25   36   49   64   81  100  121  144  169\n",
      "  196  225  256  289  324  361  400  441  484  529  576  625  676  729\n",
      "  784  841  900  961 1024 1089 1156 1225 1296 1369 1444 1521 1600 1681\n",
      " 1764 1849 1936 2025 2116 2209 2304 2401 2500 2601 2704 2809 2916 3025\n",
      " 3136 3249 3364 3481 3600 3721 3844 3969 4096 4225 4356 4489 4624 4761\n",
      " 4900 5041 5184 5329 5476 5625 5776 5929 6084 6241 6400 6561 6724 6889\n",
      " 7056 7225 7396 7569 7744 7921 8100 8281 8464 8649 8836 9025 9216 9409\n",
      " 9604 9801]\n",
      "Train Score(est1,est2):(0.934,0.610)\n",
      "Test Score(est1,est2):(0.945,0.567)\n"
     ]
    },
    {
     "data": {
      "text/plain": [
       "[<matplotlib.lines.Line2D at 0x25453134550>]"
      ]
     },
     "execution_count": 55,
     "metadata": {},
     "output_type": "execute_result"
    },
    {
     "data": {
      "image/png": "[encoded data removed]",
      "text/plain": [
       "<Figure size 432x288 with 1 Axes>"
      ]
     },
     "metadata": {
      "needs_background": "light"
     },
     "output_type": "display_data"
    }
   ],
   "source": [
    "#単純に増えていく数値の書き方\n",
    "## Xは単純に増加\n",
    "## yはXの二乗\n",
    "X = np.arange(100)\n",
    "y = np.array([i**2 for i in range(100)])\n",
    "\n",
    "print(y)\n",
    "\n",
    "#データを処理するにあたり、配列を転置することが必要\n",
    "X = X.reshape(-1,1)\n",
    "y = y.reshape(-1,1)\n",
    "\n",
    "# ホールドアウトのためデータを訓練とテストに分割\n",
    "X_train,X_test,y_train,y_test = train_test_split(X,\n",
    "                                                 y,\n",
    "                                                 test_size=0.20,\n",
    "                                                 random_state=1)\n",
    "\n",
    "# 二つのモデルを構築(比較用)\n",
    "# 線形回帰\n",
    "est1 =  LinearRegression()\n",
    "est1.fit(X_train,y_train)\n",
    "# Ridgeモデル　αが十分大きいと、回帰が悪いことがわかる\n",
    "est2 = Ridge(alpha=100000) \n",
    "est2.fit(X_train,y_train)\n",
    "\n",
    "\n",
    "#モデルパフォーマンス指標(R2)の取得\n",
    "# for training data\n",
    "r2_est1_train = r2_score(y_train,est1.predict(X_train))\n",
    "r2_est2_train = r2_score(y_train,est2.predict(X_train))\n",
    "# for test data\n",
    "r2_est1_test = r2_score(y_test,est1.predict(X_test))\n",
    "r2_est2_test = r2_score(y_test,est2.predict(X_test))\n",
    "\n",
    "# 性能指標の表示\n",
    "print('Train Score(est1,est2):(%.3f,%.3f)'% (r2_est1_train, r2_est2_train))\n",
    "print('Test Score(est1,est2):(%.3f,%.3f)'% (r2_est1_test, r2_est2_test))\n",
    "\n",
    "#描画\n",
    "p1 = est1.predict(X)\n",
    "p2 = est2.predict(X)\n",
    "plt.scatter(X,y)\n",
    "plt.plot(X,p1)\n",
    "plt.plot(X,p2)"
   ]
  },
  {
   "cell_type": "markdown",
   "metadata": {},
   "source": [
    "y=x^2にてカーネル法を使用するが、その前にカーネル法rfb_kernelの理解"
   ]
  },
  {
   "cell_type": "code",
   "execution_count": 56,
   "metadata": {},
   "outputs": [
    {
     "name": "stdout",
     "output_type": "stream",
     "text": [
      "-------------------\n",
      "[[1 0]\n",
      " [0 1]]\n",
      "[[1.         0.36787944]\n",
      " [0.36787944 1.        ]]\n",
      "[[0 0]\n",
      " [0 0]]\n",
      "-------------------\n",
      "[[1 1]\n",
      " [1 1]]\n",
      "[[1. 1.]\n",
      " [1. 1.]]\n",
      "-------------------\n",
      "[[1 1]\n",
      " [1 1]]\n",
      "[[2 2]\n",
      " [2 2]]\n",
      "[[0.36787944 0.36787944]\n",
      " [0.36787944 0.36787944]]\n",
      "-------------------\n",
      "[[1 2 3]\n",
      " [4 5 6]]\n",
      "[[ 7  8  9]\n",
      " [10 11 12]]\n",
      "[[2.31952283e-16 6.63967720e-36]\n",
      " [1.23409804e-04 2.31952283e-16]]\n",
      "--------結果の1, 1を求める-----------\n",
      "2.3195228302435696e-16\n",
      "--------結果の1, 2を求める-----------\n",
      "6.639677199580735e-36\n",
      "--------結果の2, 1を求める-----------\n",
      "0.00012340980408667956\n",
      "--------結果の2, 2を求める-----------\n",
      "2.3195228302435696e-16\n"
     ]
    }
   ],
   "source": [
    "from sklearn.metrics.pairwise import rbf_kernel\n",
    "from math import exp\n",
    "\n",
    "## Case1: 単位行列\n",
    "X = np.array([[1,0],[0,1]])\n",
    "KX = rbf_kernel(X, X)\n",
    "print('-------------------')\n",
    "print(X)\n",
    "print(KX)\n",
    "\n",
    "print(X-X)\n",
    "\n",
    "## Case2: 要素がすべて1\n",
    "X = np.array([[1,1],[1,1]])\n",
    "KX = rbf_kernel(X, X)\n",
    "print('-------------------')\n",
    "print(X)\n",
    "print(KX)\n",
    "\n",
    "## Case3: 要素がすべて1とすべて2\n",
    "X = np.array([[1,1],[1,1]])\n",
    "Y = np.array([[2,2],[2,2]])\n",
    "KX = rbf_kernel(X, Y)\n",
    "print('-------------------')\n",
    "print(X)\n",
    "print(Y)\n",
    "print(KX)\n",
    "\n",
    "## Case4: 要素の数をすべて変えて、なにが起きているか理解する\n",
    "X = np.array([[1,2,3],[4,5,6]])\n",
    "Y = np.array([[7,8,9],[10,11,12]])\n",
    "KX = rbf_kernel(X, Y)\n",
    "print('-------------------')\n",
    "print(X)\n",
    "print(Y)\n",
    "print(KX)\n",
    "print('--------結果の1, 1を求める-----------')\n",
    "answer = exp(-(1/3)*((1-7)**2+(2-8)**2+(3-9)**2))\n",
    "print(answer)\n",
    "print('--------結果の1, 2を求める-----------')\n",
    "answer = exp(-(1/3)*((1-10)**2+(2-11)**2+(3-12)**2))\n",
    "print(answer)\n",
    "print('--------結果の2, 1を求める-----------')\n",
    "answer = exp(-(1/3)*((4-7)**2+(5-8)**2+(6-9)**2))\n",
    "print(answer)\n",
    "print('--------結果の2, 2を求める-----------')\n",
    "answer = exp(-(1/3)*((4-10)**2+(5-11)**2+(6-12)**2))\n",
    "print(answer)"
   ]
  },
  {
   "cell_type": "markdown",
   "metadata": {},
   "source": [
    "y=x^2にてカーネル法を使用する"
   ]
  },
  {
   "cell_type": "code",
   "execution_count": 68,
   "metadata": {},
   "outputs": [
    {
     "name": "stdout",
     "output_type": "stream",
     "text": [
      "------LinearRegression:Blue------\n",
      "------Ridge:Orange------\n"
     ]
    },
    {
     "data": {
      "text/plain": [
       "[<matplotlib.lines.Line2D at 0x25452a260f0>]"
      ]
     },
     "execution_count": 68,
     "metadata": {},
     "output_type": "execute_result"
    },
    {
     "data": {
      "image/png": "[encoded data removed]",
      "text/plain": [
       "<Figure size 432x288 with 1 Axes>"
      ]
     },
     "metadata": {
      "needs_background": "light"
     },
     "output_type": "display_data"
    }
   ],
   "source": [
    "import numpy as np \n",
    "from sklearn.metrics.pairwise import rbf_kernel\n",
    "import matplotlib.pyplot as plt\n",
    "from sklearn.linear_model import Ridge\n",
    "\n",
    "## Xは単純に増加\n",
    "## yはXの二乗\n",
    "X = np.arange(10)\n",
    "y = np.array([i**2 for i in range(10)])\n",
    "\n",
    "#データを処理するにあたり、配列を転置することが必要\n",
    "X = X.reshape(-1,1)\n",
    "y = y.reshape(-1,1)\n",
    "\n",
    "KX = rbf_kernel(X, X)\n",
    "\n",
    "clf = LinearRegression()\n",
    "clf.fit(KX, y)\n",
    "\n",
    "#要素間の補正の様子を見たいので、より細かいｘにて様子を観察する\n",
    "x = np.arange(-1,11,0.1)\n",
    "x = x.reshape(-1,1)\n",
    "Kx = rbf_kernel(x, X)\n",
    "p = clf.predict(Kx)\n",
    "print('------LinearRegression:Blue------')\n",
    "plt.scatter(X, y)\n",
    "plt.plot(x, p)\n",
    "\n",
    "clf2 = Ridge()\n",
    "clf2.fit(KX, y)\n",
    "p2 = clf2.predict(Kx)\n",
    "print('------Ridge:Orange------')\n",
    "plt.plot(x, p2)"
   ]
  },
  {
   "cell_type": "markdown",
   "metadata": {},
   "source": [
    "ノイズをつけて、リッジ回帰のαを適切な値に設定すれば、LinearRegressionよりもRidgeのほうが優れていることがわかる。"
   ]
  },
  {
   "cell_type": "code",
   "execution_count": 83,
   "metadata": {},
   "outputs": [
    {
     "name": "stdout",
     "output_type": "stream",
     "text": [
      "------LinearRegression:Red------\n",
      "------Ridge:Orange------\n"
     ]
    },
    {
     "data": {
      "text/plain": [
       "[<matplotlib.lines.Line2D at 0x25453c08d30>]"
      ]
     },
     "execution_count": 83,
     "metadata": {},
     "output_type": "execute_result"
    },
    {
     "data": {
      "image/png": "[encoded data removed]",
      "text/plain": [
       "<Figure size 432x288 with 1 Axes>"
      ]
     },
     "metadata": {
      "needs_background": "light"
     },
     "output_type": "display_data"
    }
   ],
   "source": [
    "import numpy as np \n",
    "from sklearn.metrics.pairwise import rbf_kernel\n",
    "import matplotlib.pyplot as plt\n",
    "from sklearn.linear_model import Ridge\n",
    "\n",
    "## Xは単純に増加\n",
    "## yはXの二乗\n",
    "X = np.arange(10)\n",
    "y = np.array([i**2 for i in range(10)])\n",
    "y_random = y + (-15) + 30 * np.random.random(10)\n",
    "\n",
    "#データを処理するにあたり、配列を転置することが必要\n",
    "X = X.reshape(-1,1)\n",
    "y_random = y_random.reshape(-1,1)\n",
    "\n",
    "KX = rbf_kernel(X, X)\n",
    "\n",
    "clf = LinearRegression()\n",
    "clf.fit(KX, y_random)\n",
    "\n",
    "#要素間の補正の様子を見たいので、より細かいｘにて様子を観察する\n",
    "x = np.arange(-1,11,0.1)\n",
    "x = x.reshape(-1,1)\n",
    "Kx = rbf_kernel(x, X)\n",
    "p = clf.predict(Kx)\n",
    "print('------LinearRegression:Red------')\n",
    "plt.scatter(X, y, c='blue')\n",
    "plt.scatter(X, y_random, c='red')\n",
    "plt.plot(x, p, c='red')\n",
    "\n",
    "clf2 = Ridge(alpha = 0.05)\n",
    "clf2.fit(KX, y)\n",
    "p2 = clf2.predict(Kx)\n",
    "print('------Ridge:Orange------')\n",
    "plt.plot(x, p2, c='orange')\n",
    "\n"
   ]
  },
  {
   "cell_type": "markdown",
   "metadata": {},
   "source": [
    "001参考：\n",
    "ノルムに関して\n",
    "https://mathtrain.jp/lpnorm\n",
    "\n",
    "scikit-learnで線形モデルとカーネルモデルの回帰分析をやってみた - イラストで学ぶ機会学習\n",
    "https://qiita.com/kotaroito/items/4eb29d42d7f8c534332f\n",
    "\n",
    "カーネル関数の使い方：scikit-learn\n",
    "http://publicjournal.hatenablog.com/entry/2017/03/20/211512\n"
   ]
  }
 ],
 "metadata": {
  "kernelspec": {
   "display_name": "Python 3",
   "language": "python",
   "name": "python3"
  },
  "language_info": {
   "codemirror_mode": {
    "name": "ipython",
    "version": 3
   },
   "file_extension": ".py",
   "mimetype": "text/x-python",
   "name": "python",
   "nbconvert_exporter": "python",
   "pygments_lexer": "ipython3",
   "version": "3.7.0"
  }
 },
 "nbformat": 4,
 "nbformat_minor": 2
}
